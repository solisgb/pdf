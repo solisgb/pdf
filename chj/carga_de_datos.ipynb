{
 "cells": [
  {
   "cell_type": "markdown",
   "id": "5988b4bf-069f-4aa8-9ac2-de2f4d8364be",
   "metadata": {},
   "source": [
    "# Asignar código a toma"
   ]
  },
  {
   "cell_type": "code",
   "execution_count": 1,
   "id": "bb9a57bc-b1e1-4125-9690-06809c815419",
   "metadata": {},
   "outputs": [],
   "source": [
    "import getpass\n",
    "import matplotlib as mpl\n",
    "import matplotlib.pyplot as plt\n",
    "import numpy as np\n",
    "from os.path import join\n",
    "import psycopg2\n",
    "import pandas as pd\n",
    "import pandas.io.sql as psql\n",
    "import ipywidgets as widgets\n",
    "\n",
    "%matplotlib widget\n"
   ]
  },
  {
   "cell_type": "code",
   "execution_count": 12,
   "id": "1943310f-72b4-4de1-897a-c58bafaf2c02",
   "metadata": {},
   "outputs": [
    {
     "name": "stdin",
     "output_type": "stream",
     "text": [
      "DB:  ···\n",
      "User:  ········\n",
      "Password:  ··\n"
     ]
    }
   ],
   "source": [
    "db = getpass.getpass('DB: ')\n",
    "user = getpass.getpass('User: ')\n",
    "passw = getpass.getpass('Password: ')\n",
    "con = psycopg2.connect(database=db, user=user, password=passw)\n",
    "cur = con.cursor()"
   ]
  },
  {
   "cell_type": "markdown",
   "id": "23bb85d2-419b-4a8e-b38d-e54e33f8ba04",
   "metadata": {},
   "source": [
    "## Importar datos desde csv files"
   ]
  },
  {
   "cell_type": "code",
   "execution_count": 8,
   "id": "479470f6-4f4b-4d2d-8fce-c1e8be1db9b5",
   "metadata": {},
   "outputs": [],
   "source": [
    "# Albacete\n",
    "\n",
    "fnames_inccripciones = ('ins_manantial_albacete_convertio.csv', \n",
    "                        'ins_reutilizacion_albacete_convertio.csv',\n",
    "                        'ins_subterraneo_albacete_convertio.csv',\n",
    "                        'ins_superficial_albacete_convertio.csv')\n",
    "\n",
    "fnames_tomas = ('toma_manantial_albacete_convertio.csv',\n",
    "                'toma_reutilizacion_albacete_convertio.csv',\n",
    "                'toma_subterraneo_albacete_convertio.csv',\n",
    "                'toma_superficial_albacete_convertio.csv')\n",
    "dir_f = r'H:\\LSGB\\data2db\\chj_inscripciones\\output_convertio'\n",
    "\n",
    "create_t_ins = \\\n",
    "\"\"\"\n",
    "create table ins.chj_ins(\n",
    "    seccion varchar,\n",
    "    tomo varchar,\n",
    "    folio varchar,\n",
    "    clave varchar,\n",
    "    ugh varchar,\n",
    "    tipo varchar,\n",
    "    fecha date,\n",
    "    clase_afeccion varchar,\n",
    "    vol_max_m3 real,\n",
    "    superficie_ha real,\n",
    "    corriente_acu varchar,\n",
    "    paraje varchar,\n",
    "    municipio varchar,\n",
    "    provincia varchar,\n",
    "    ca varchar,\n",
    "    titular varchar,\n",
    "    primary key (seccion, tomo, folio)\n",
    ");\n",
    "\"\"\"\n",
    "\n",
    "create_t_toma = \\\n",
    "\"\"\"\n",
    "create table ins.chj_toma(\n",
    "    toma_ins varchar,\n",
    "    seccion varchar,\n",
    "    tomo varchar,\n",
    "    folio varchar,\n",
    "    toma varchar,\n",
    "    xutm real,\n",
    "    yutm real,\n",
    "    huso varchar\n",
    ")\n",
    "\"\"\"\n",
    "\n",
    "cp_ins = \"copy ins.chj_ins from %s with CSV header delimiter ',' encoding 'UTF-8'\"\n",
    "\n",
    "cp_toma = \"copy ins.chj_toma from %s with CSV header delimiter ',' encoding 'UTF-8'\"\n"
   ]
  },
  {
   "cell_type": "code",
   "execution_count": 23,
   "id": "914456d2-c3af-45a6-92cf-093750507a07",
   "metadata": {},
   "outputs": [],
   "source": [
    "# cur.execute(com1)"
   ]
  },
  {
   "cell_type": "code",
   "execution_count": 9,
   "id": "406046b1-f94a-4f46-bb4e-1e8c126b8dfc",
   "metadata": {
    "collapsed": true,
    "jupyter": {
     "outputs_hidden": true
    },
    "tags": []
   },
   "outputs": [
    {
     "name": "stdout",
     "output_type": "stream",
     "text": [
      "toma_manantial_albacete_convertio.csv\n"
     ]
    },
    {
     "ename": "InFailedSqlTransaction",
     "evalue": "transacción abortada, las órdenes serán ignoradas hasta el fin de bloque de transacción\n",
     "output_type": "error",
     "traceback": [
      "\u001b[1;31m---------------------------------------------------------------------------\u001b[0m",
      "\u001b[1;31mInFailedSqlTransaction\u001b[0m                    Traceback (most recent call last)",
      "\u001b[1;32m~\\AppData\\Local\\Temp/ipykernel_6440/3652936798.py\u001b[0m in \u001b[0;36m<module>\u001b[1;34m\u001b[0m\n\u001b[0;32m      4\u001b[0m     \u001b[0mprint\u001b[0m\u001b[1;33m(\u001b[0m\u001b[0mfname1\u001b[0m\u001b[1;33m)\u001b[0m\u001b[1;33m\u001b[0m\u001b[1;33m\u001b[0m\u001b[0m\n\u001b[0;32m      5\u001b[0m     \u001b[0ma\u001b[0m \u001b[1;33m=\u001b[0m \u001b[0mjoin\u001b[0m\u001b[1;33m(\u001b[0m\u001b[0mdir_f\u001b[0m\u001b[1;33m,\u001b[0m \u001b[0mfname1\u001b[0m\u001b[1;33m)\u001b[0m\u001b[1;33m\u001b[0m\u001b[1;33m\u001b[0m\u001b[0m\n\u001b[1;32m----> 6\u001b[1;33m     \u001b[0mcur\u001b[0m\u001b[1;33m.\u001b[0m\u001b[0mexecute\u001b[0m\u001b[1;33m(\u001b[0m\u001b[0mcp_toma\u001b[0m\u001b[1;33m,\u001b[0m \u001b[1;33m(\u001b[0m\u001b[0ma\u001b[0m\u001b[1;33m,\u001b[0m\u001b[1;33m)\u001b[0m\u001b[1;33m)\u001b[0m\u001b[1;33m\u001b[0m\u001b[1;33m\u001b[0m\u001b[0m\n\u001b[0m",
      "\u001b[1;31mInFailedSqlTransaction\u001b[0m: transacción abortada, las órdenes serán ignoradas hasta el fin de bloque de transacción\n"
     ]
    }
   ],
   "source": [
    "fnames = fnames_tomas\n",
    "\n",
    "cur.execute('begin;')\n",
    "\n",
    "for fname1 in fnames:\n",
    "    print(fname1)\n",
    "    a = join(dir_f, fname1)\n",
    "    cur.execute(cp_toma, (a,))\n",
    "\n",
    "cur.execute('commit;')"
   ]
  },
  {
   "cell_type": "code",
   "execution_count": 23,
   "id": "00834fa1-fc7b-471a-9c9f-4207a9b5b665",
   "metadata": {},
   "outputs": [],
   "source": [
    "# Alicante\n",
    "\n",
    "f_inscripciones = ('ins_manantial_alicante_convertio.csv',\n",
    "                   'ins_mixto_alicante_convertio.csv',\n",
    "                   'ins_reutilizacion_alicante_convertio.csv',\n",
    "                   'ins_subterraneo_alicante_convertio.csv',\n",
    "                   'ins_superficial_alicante_convertio.csv')\n",
    "\n",
    "f_tomas = ('toma_manantial_alicante_convertio.csv',\n",
    "           'toma_mixto_alicante_convertio.csv',\n",
    "           'toma_reutilizacion_alicante_convertio.csv',\n",
    "           'toma_subterraneo_alicante_convertio.csv',\n",
    "           'toma_superficial_alicante_convertio.csv')\n",
    "\n",
    "dir_f = r'H:\\LSGB\\data2db\\chj_inscripciones\\output_convertio\\ali'\n",
    "\n",
    "\n",
    "cp_ins = \"copy ins.chj_ins from %s with CSV header delimiter ',' encoding 'UTF-8'\"\n",
    "\n",
    "cp_toma = \"copy ins.chj_toma(ntoma_ins,seccion,tomo,folio,toma,xutm,yutm,huso) from %s with CSV header delimiter ',' encoding 'UTF-8'\"\n"
   ]
  },
  {
   "cell_type": "code",
   "execution_count": 18,
   "id": "b6789d72-2536-4084-a152-0b3c7e28f7e8",
   "metadata": {},
   "outputs": [
    {
     "name": "stdout",
     "output_type": "stream",
     "text": [
      "ins_manantial_alicante_convertio.csv\n",
      "ins_mixto_alicante_convertio.csv\n",
      "ins_reutilizacion_alicante_convertio.csv\n",
      "ins_subterraneo_alicante_convertio.csv\n",
      "ins_superficial_alicante_convertio.csv\n"
     ]
    }
   ],
   "source": [
    "cur.execute('begin;')\n",
    "\n",
    "fnames = f_inscripciones\n",
    "\n",
    "for fname1 in fnames:\n",
    "    print(fname1)\n",
    "    a = join(dir_f, fname1)\n",
    "    cur.execute(cp_ins, (a,))\n",
    "\n",
    "cur.execute('commit;')"
   ]
  },
  {
   "cell_type": "code",
   "execution_count": 20,
   "id": "79ad94c4-094e-42d9-a70f-6a5bf6d9b222",
   "metadata": {},
   "outputs": [],
   "source": [
    "s = \\\n",
    "\"\"\"\n",
    "select  t.provincia , count(*)\n",
    "from ins.chj_ins  t\n",
    "group by t.provincia;\n",
    "\"\"\""
   ]
  },
  {
   "cell_type": "code",
   "execution_count": 21,
   "id": "139de73b-0f51-41de-bccd-599044c9b01e",
   "metadata": {},
   "outputs": [
    {
     "name": "stdout",
     "output_type": "stream",
     "text": [
      "[('ALACANT', 5181), ('ALBACETE', 5517)]\n"
     ]
    }
   ],
   "source": [
    "cur.execute(s)\n",
    "print(cur.fetchall())"
   ]
  },
  {
   "cell_type": "code",
   "execution_count": 26,
   "id": "c169a8bc-d9cf-40c2-a3c1-2f974b4a25f4",
   "metadata": {},
   "outputs": [
    {
     "name": "stdout",
     "output_type": "stream",
     "text": [
      "toma_manantial_alicante_convertio.csv\n",
      "toma_mixto_alicante_convertio.csv\n",
      "toma_reutilizacion_alicante_convertio.csv\n",
      "toma_subterraneo_alicante_convertio.csv\n",
      "toma_superficial_alicante_convertio.csv\n"
     ]
    }
   ],
   "source": [
    "cur.execute('begin;')\n",
    "\n",
    "fnames = f_tomas\n",
    "\n",
    "for fname1 in fnames:\n",
    "    print(fname1)\n",
    "    a = join(dir_f, fname1)\n",
    "    cur.execute(cp_toma, (a,))\n",
    "\n",
    "cur.execute('commit;')"
   ]
  },
  {
   "cell_type": "code",
   "execution_count": null,
   "id": "36120bb1-cea7-4a54-b7e4-3d5c49094127",
   "metadata": {},
   "outputs": [],
   "source": []
  }
 ],
 "metadata": {
  "kernelspec": {
   "display_name": "Python 3 (ipykernel)",
   "language": "python",
   "name": "python3"
  },
  "language_info": {
   "codemirror_mode": {
    "name": "ipython",
    "version": 3
   },
   "file_extension": ".py",
   "mimetype": "text/x-python",
   "name": "python",
   "nbconvert_exporter": "python",
   "pygments_lexer": "ipython3",
   "version": "3.8.12"
  }
 },
 "nbformat": 4,
 "nbformat_minor": 5
}
