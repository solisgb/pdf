{
 "cells": [
  {
   "cell_type": "code",
   "execution_count": 1,
   "id": "c13acc15-8bbd-47f9-9bd2-d5e395c0ba2a",
   "metadata": {},
   "outputs": [],
   "source": [
    "    keys = ('TIPO INSCRIPCIÓN:',\n",
    "             'COMUNIDAD AUTÓNOMA:',\n",
    "             'PROVINCIA:',\n",
    "             'Municipio:',\n",
    "             'Sección:',\n",
    "             'Tomo:',\n",
    "             'Folio:',\n",
    "             'Clave:',\n",
    "             'Fecha Concesión:',\n",
    "             'Clase y Afeccion:',\n",
    "             'Vol. Max. Anual (m3):',\n",
    "             'Superficie (ha):',\n",
    "             'Corriente - Acuifero:',\n",
    "             'Paraje:', \n",
    "             'Municipio:',\n",
    "             'Provincia:',\n",
    "             'Titular:',\n",
    "             'TOMA:',\n",
    "             'UTMX:',\n",
    "             'UTM Y:',\n",
    "             'HUSO:')"
   ]
  },
  {
   "cell_type": "code",
   "execution_count": 2,
   "id": "73cf6b93-5c92-4f38-9c82-d1278479b633",
   "metadata": {},
   "outputs": [
    {
     "name": "stdout",
     "output_type": "stream",
     "text": [
      "['TOMA:', 'UTMX:', 'UTM Y:', 'HUSO:']\n",
      "[9, 28, 41, 56] [14, 33, 47, 61]\n"
     ]
    }
   ],
   "source": [
    "row = 'Tomas:   TOMA: 860/2004 - 1 UTMX: 626639 UTM Y: 4341844 HUSO: 30'\n",
    "\n",
    "present_keys = [key1 for key1 in keys if key1 in row]\n",
    "print(present_keys)\n",
    "pos0 = [row.find(key1) for key1 in present_keys]\n",
    "pos1 = [row.find(key1)+len(key1) for key1 in present_keys]\n",
    "print(pos0, pos1)"
   ]
  },
  {
   "cell_type": "code",
   "execution_count": 3,
   "id": "adb4bbe1-91f3-47bd-960a-2c77c2a3bb7c",
   "metadata": {},
   "outputs": [
    {
     "name": "stdout",
     "output_type": "stream",
     "text": [
      "0 -> TOMA: -> 860/2004 - 1\n",
      "1 -> UTMX: -> 626639\n",
      "2 -> UTM Y: -> 4341844\n",
      "3 -> HUSO: -> 30\n"
     ]
    }
   ],
   "source": [
    "ilength = len(present_keys) - 1\n",
    "for i, (k1, p0, p1) in enumerate(zip(present_keys, pos0, pos1)):\n",
    "    if i < ilength:\n",
    "        pe = pos0[i+1]\n",
    "        print (i, '->', k1[0:], '->', row[p1:pe].strip())\n",
    "    else:\n",
    "        print (i, '->', k1[0:], '->', row[p1:].strip())\n"
   ]
  },
  {
   "cell_type": "code",
   "execution_count": 4,
   "id": "1e0d0a3f-9064-47ff-9e1f-7b83677dca80",
   "metadata": {},
   "outputs": [
    {
     "data": {
      "text/plain": [
       "{'a': 1, 'b': 2}"
      ]
     },
     "execution_count": 4,
     "metadata": {},
     "output_type": "execute_result"
    }
   ],
   "source": [
    "a = dict([('a', 1), ('b', 2)])\n",
    "a"
   ]
  },
  {
   "cell_type": "code",
   "execution_count": 5,
   "id": "6ef15653-2868-4d14-a877-846d58be0034",
   "metadata": {},
   "outputs": [
    {
     "data": {
      "text/plain": [
       "'b'"
      ]
     },
     "execution_count": 5,
     "metadata": {},
     "output_type": "execute_result"
    }
   ],
   "source": [
    "list(a.keys())[-1]"
   ]
  },
  {
   "cell_type": "code",
   "execution_count": 27,
   "id": "be88cacc-6858-4b1c-ab78-b658b39951df",
   "metadata": {},
   "outputs": [
    {
     "name": "stdout",
     "output_type": "stream",
     "text": [
      "1\n",
      "2\n",
      "3\n",
      "3\n"
     ]
    }
   ],
   "source": [
    "class Counter():\n",
    "    \n",
    "    def __init__(self, i: int):\n",
    "        self.__i = i\n",
    "\n",
    "    @property\n",
    "    def i(self):\n",
    "        return self.__i\n",
    "\n",
    "    def __iadd__(self, i:int):\n",
    "        self.__i += i\n",
    "        return self \n",
    "   \n",
    "    \n",
    "def test(n):\n",
    "    n += 1\n",
    "\n",
    "n = Counter(0)\n",
    "for j in range(3):\n",
    "    test(n)\n",
    "    print(n.i)\n",
    "\n",
    "print(n.i)\n"
   ]
  },
  {
   "cell_type": "code",
   "execution_count": null,
   "id": "f9fccd1d-a7d9-4a89-8af2-43deb33d43e7",
   "metadata": {},
   "outputs": [],
   "source": []
  }
 ],
 "metadata": {
  "kernelspec": {
   "display_name": "Python 3 (ipykernel)",
   "language": "python",
   "name": "python3"
  },
  "language_info": {
   "codemirror_mode": {
    "name": "ipython",
    "version": 3
   },
   "file_extension": ".py",
   "mimetype": "text/x-python",
   "name": "python",
   "nbconvert_exporter": "python",
   "pygments_lexer": "ipython3",
   "version": "3.8.12"
  }
 },
 "nbformat": 4,
 "nbformat_minor": 5
}
