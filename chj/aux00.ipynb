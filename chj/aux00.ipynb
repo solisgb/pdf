{
 "cells": [
  {
   "cell_type": "code",
   "execution_count": 1,
   "id": "c13acc15-8bbd-47f9-9bd2-d5e395c0ba2a",
   "metadata": {},
   "outputs": [],
   "source": [
    "    keys = ('TIPO INSCRIPCIÓN:',\n",
    "             'COMUNIDAD AUTÓNOMA:',\n",
    "             'PROVINCIA:',\n",
    "             'Municipio:',\n",
    "             'Sección:',\n",
    "             'Tomo:',\n",
    "             'Folio:',\n",
    "             'Clave:',\n",
    "             'Fecha Concesión:',\n",
    "             'Clase y Afeccion:',\n",
    "             'Vol. Max. Anual (m3):',\n",
    "             'Superficie (ha):',\n",
    "             'Corriente - Acuifero:',\n",
    "             'Paraje:', \n",
    "             'Municipio:',\n",
    "             'Provincia:',\n",
    "             'Titular:',\n",
    "             'TOMA:',\n",
    "             'UTMX:',\n",
    "             'UTM Y:',\n",
    "             'HUSO:')"
   ]
  },
  {
   "cell_type": "code",
   "execution_count": 2,
   "id": "73cf6b93-5c92-4f38-9c82-d1278479b633",
   "metadata": {},
   "outputs": [
    {
     "name": "stdout",
     "output_type": "stream",
     "text": [
      "['TOMA:', 'UTMX:', 'UTM Y:', 'HUSO:']\n",
      "[9, 28, 41, 56] [14, 33, 47, 61]\n"
     ]
    }
   ],
   "source": [
    "row = 'Tomas:   TOMA: 860/2004 - 1 UTMX: 626639 UTM Y: 4341844 HUSO: 30'\n",
    "\n",
    "present_keys = [key1 for key1 in keys if key1 in row]\n",
    "print(present_keys)\n",
    "pos0 = [row.find(key1) for key1 in present_keys]\n",
    "pos1 = [row.find(key1)+len(key1) for key1 in present_keys]\n",
    "print(pos0, pos1)"
   ]
  },
  {
   "cell_type": "code",
   "execution_count": 3,
   "id": "adb4bbe1-91f3-47bd-960a-2c77c2a3bb7c",
   "metadata": {},
   "outputs": [
    {
     "name": "stdout",
     "output_type": "stream",
     "text": [
      "0 -> TOMA: -> 860/2004 - 1\n",
      "1 -> UTMX: -> 626639\n",
      "2 -> UTM Y: -> 4341844\n",
      "3 -> HUSO: -> 30\n"
     ]
    }
   ],
   "source": [
    "ilength = len(present_keys) - 1\n",
    "for i, (k1, p0, p1) in enumerate(zip(present_keys, pos0, pos1)):\n",
    "    if i < ilength:\n",
    "        pe = pos0[i+1]\n",
    "        print (i, '->', k1[0:], '->', row[p1:pe].strip())\n",
    "    else:\n",
    "        print (i, '->', k1[0:], '->', row[p1:].strip())\n"
   ]
  },
  {
   "cell_type": "code",
   "execution_count": 4,
   "id": "1e0d0a3f-9064-47ff-9e1f-7b83677dca80",
   "metadata": {},
   "outputs": [
    {
     "data": {
      "text/plain": [
       "{'a': 1, 'b': 2}"
      ]
     },
     "execution_count": 4,
     "metadata": {},
     "output_type": "execute_result"
    }
   ],
   "source": [
    "a = dict([('a', 1), ('b', 2)])\n",
    "a"
   ]
  },
  {
   "cell_type": "code",
   "execution_count": 5,
   "id": "6ef15653-2868-4d14-a877-846d58be0034",
   "metadata": {},
   "outputs": [
    {
     "data": {
      "text/plain": [
       "'b'"
      ]
     },
     "execution_count": 5,
     "metadata": {},
     "output_type": "execute_result"
    }
   ],
   "source": [
    "list(a.keys())[-1]"
   ]
  },
  {
   "cell_type": "code",
   "execution_count": 27,
   "id": "be88cacc-6858-4b1c-ab78-b658b39951df",
   "metadata": {},
   "outputs": [
    {
     "name": "stdout",
     "output_type": "stream",
     "text": [
      "1\n",
      "2\n",
      "3\n",
      "3\n"
     ]
    }
   ],
   "source": [
    "class Counter():\n",
    "    \n",
    "    def __init__(self, i: int):\n",
    "        self.__i = i\n",
    "\n",
    "    @property\n",
    "    def i(self):\n",
    "        return self.__i\n",
    "\n",
    "    def __iadd__(self, i:int):\n",
    "        self.__i += i\n",
    "        return self \n",
    "   \n",
    "    \n",
    "def test(n):\n",
    "    n += 1\n",
    "\n",
    "n = Counter(0)\n",
    "for j in range(3):\n",
    "    test(n)\n",
    "    print(n.i)\n",
    "\n",
    "print(n.i)\n"
   ]
  },
  {
   "cell_type": "code",
   "execution_count": 1,
   "id": "f9fccd1d-a7d9-4a89-8af2-43deb33d43e7",
   "metadata": {},
   "outputs": [
    {
     "name": "stdout",
     "output_type": "stream",
     "text": [
      "True\n"
     ]
    }
   ],
   "source": [
    "a = int\n",
    "if a is int:\n",
    "    print(True)\n",
    "    "
   ]
  },
  {
   "cell_type": "code",
   "execution_count": 1,
   "id": "f5f49735-5594-40dd-888d-3b70ced74e0a",
   "metadata": {},
   "outputs": [
    {
     "data": {
      "text/plain": [
       "200057.3"
      ]
     },
     "execution_count": 1,
     "metadata": {},
     "output_type": "execute_result"
    }
   ],
   "source": [
    "from locale import atof, setlocale, LC_NUMERIC\n",
    "setlocale(LC_NUMERIC, 'es_ES')\n",
    "a = '200.057,3'\n",
    "atof(a)"
   ]
  },
  {
   "cell_type": "code",
   "execution_count": 12,
   "id": "315bd11c-dd2a-4f91-8fc3-dcdcdfd62556",
   "metadata": {},
   "outputs": [
    {
     "data": {
      "text/plain": [
       "['', '', '', '', '']"
      ]
     },
     "execution_count": 12,
     "metadata": {},
     "output_type": "execute_result"
    }
   ],
   "source": [
    "NULL = ''\n",
    "keys_toma = [('clave', [NULL, str]), ('toma', [NULL, str]),\n",
    "             ('xutm', [NULL, float]), ('yutm', [NULL, float]),\n",
    "             ('huso', [NULL, str])]\n",
    "d = dict(keys_toma)\n",
    "[v2[0] for v2 in list(d.values())]"
   ]
  },
  {
   "cell_type": "code",
   "execution_count": 13,
   "id": "9c116867-c0a1-462d-a37f-5f7ddc8e0577",
   "metadata": {},
   "outputs": [
    {
     "data": {
      "text/plain": [
       "['str', '', '', '', '']"
      ]
     },
     "execution_count": 13,
     "metadata": {},
     "output_type": "execute_result"
    }
   ],
   "source": [
    "d['clave'][0] = 'str'\n",
    "[v2[0] for v2 in list(d.values())]"
   ]
  },
  {
   "cell_type": "code",
   "execution_count": 18,
   "id": "2aec639f-cc34-4a6b-bffd-f6e713d1d1d6",
   "metadata": {},
   "outputs": [
    {
     "data": {
      "text/plain": [
       "['Ene', '23', '1997', '12:0']"
      ]
     },
     "execution_count": 18,
     "metadata": {},
     "output_type": "execute_result"
    }
   ],
   "source": [
    "f = 'Ene 23 1997 12:0'\n",
    "ws = f.split()\n",
    "ws"
   ]
  },
  {
   "cell_type": "code",
   "execution_count": 20,
   "id": "8a18f498-b4e0-46d6-a90e-6352047b6152",
   "metadata": {},
   "outputs": [
    {
     "data": {
      "text/plain": [
       "{'ene': 1,\n",
       " 'jan': 1,\n",
       " 'feb': 2,\n",
       " 'mar': 3,\n",
       " 'abr': 4,\n",
       " 'may': 5,\n",
       " 'jun': 6,\n",
       " 'jul': 7,\n",
       " 'ago': 8,\n",
       " 'aug': 8,\n",
       " 'sep': 9,\n",
       " 'oct': 10,\n",
       " 'nov': 11,\n",
       " 'dic': 12}"
      ]
     },
     "execution_count": 20,
     "metadata": {},
     "output_type": "execute_result"
    }
   ],
   "source": [
    "months = dict([('ene', 1),('jan',1),('feb',2),('mar',3),\n",
    "              ('abr',4),('may',5),('jun',6),\n",
    "              ('jul',7),('ago',8),('aug',8),('sep',9),\n",
    "              ('oct',10),('nov',11),('dic',12)])\n",
    "months"
   ]
  },
  {
   "cell_type": "code",
   "execution_count": 24,
   "id": "75837c2a-b3df-4dc0-8be3-527ebf9bb5b5",
   "metadata": {},
   "outputs": [
    {
     "data": {
      "text/plain": [
       "1"
      ]
     },
     "execution_count": 24,
     "metadata": {},
     "output_type": "execute_result"
    }
   ],
   "source": [
    "month = months[ws[0].lower()]\n",
    "month"
   ]
  },
  {
   "cell_type": "code",
   "execution_count": 23,
   "id": "e913062f-a1ed-4951-bc3b-99e37b08e3de",
   "metadata": {},
   "outputs": [],
   "source": [
    "from datetime import date"
   ]
  },
  {
   "cell_type": "code",
   "execution_count": 26,
   "id": "1496d0ff-2b86-49b4-9a6b-c7bf4008d063",
   "metadata": {},
   "outputs": [
    {
     "data": {
      "text/plain": [
       "datetime.date(1997, 1, 23)"
      ]
     },
     "execution_count": 26,
     "metadata": {},
     "output_type": "execute_result"
    }
   ],
   "source": [
    "date(int(ws[2]), month, int(ws[1]))"
   ]
  },
  {
   "cell_type": "code",
   "execution_count": 50,
   "id": "76dc7b9b-8df0-4387-8884-c2d7fc3d5fdc",
   "metadata": {},
   "outputs": [],
   "source": [
    "def str_to_date(str_date: str):\n",
    "    months = dict([('ene', 1),('jan',1),('feb',2),('mar',3),\n",
    "              ('abr',4),('may',5),('jun',6),\n",
    "              ('jul',7),('ago',8),('aug',8),('sep',9),\n",
    "              ('oct',10),('nov',11),('dic',12)])\n",
    "\n",
    "    try:\n",
    "        ws = str_date.split('/')\n",
    "        if len(ws) == 3:\n",
    "            dt = date(int(ws[2]), int(ws[1]), int(ws[0]))\n",
    "            return dt.strftime('%Y-%m-%d')\n",
    "        ws = str_date.split()\n",
    "        if len(ws) >= 3:\n",
    "            ws[0] = ws[0].lower()\n",
    "            if ws[0] in months.keys():\n",
    "                ws[0] = months[ws[0]]\n",
    "                dt = date(int(ws[2]), int(ws[0]), int(ws[1]))\n",
    "                return dt.strftime('%Y-%m-%d')\n",
    "        print(f'{str_date} can not be formated as date')\n",
    "        return str_date\n",
    "    except:\n",
    "        print(f'{str_date} can not be formated as date')\n",
    "        return str_date"
   ]
  },
  {
   "cell_type": "code",
   "execution_count": 52,
   "id": "effad2f5-3d24-4c0f-adfc-a84570813786",
   "metadata": {},
   "outputs": [
    {
     "data": {
      "text/plain": [
       "'1997-01-23'"
      ]
     },
     "execution_count": 52,
     "metadata": {},
     "output_type": "execute_result"
    }
   ],
   "source": [
    "f = 'Ene 23 1997 12:0'\n",
    "f1 = '01/12/2005'\n",
    "str_to_date(f)"
   ]
  },
  {
   "cell_type": "code",
   "execution_count": 2,
   "id": "bf728144-0b81-4c23-a8bb-cdf20a4941cb",
   "metadata": {},
   "outputs": [
    {
     "data": {
      "text/plain": [
       "'hola rediona'"
      ]
     },
     "execution_count": 2,
     "metadata": {},
     "output_type": "execute_result"
    }
   ],
   "source": [
    "a = 'hola   rediona'\n",
    "a = a.split()\n",
    "' '.join(a)\n"
   ]
  },
  {
   "cell_type": "code",
   "execution_count": 9,
   "id": "9961b5ec-b7ab-4621-9108-ab4b873008b9",
   "metadata": {},
   "outputs": [],
   "source": [
    "from os.path import basename, join, splitext\n",
    "import glob\n",
    "dir_data = r'H:\\LSGB\\data2db\\chj_inscripciones'"
   ]
  },
  {
   "cell_type": "code",
   "execution_count": 3,
   "id": "3153bf1c-41b0-4fe5-bb78-566f0bbbd513",
   "metadata": {},
   "outputs": [],
   "source": [
    "pattern = '*ALBACETE_convertio.txt'"
   ]
  },
  {
   "cell_type": "code",
   "execution_count": 22,
   "id": "e28c5890-8906-4180-96f7-8423a9bf1f47",
   "metadata": {},
   "outputs": [
    {
     "name": "stdout",
     "output_type": "stream",
     "text": [
      "MANANTIAL_ALBACETE_convertio.txt , ins_manantial_albacete_convertio.csv , toma_manantial_albacete_convertio.csv\n",
      "REUTILIZACION_ALBACETE_convertio.txt , ins_reutilizacion_albacete_convertio.csv , toma_reutilizacion_albacete_convertio.csv\n",
      "SUBTERRANEO_ALBACETE_convertio.txt , ins_subterraneo_albacete_convertio.csv , toma_subterraneo_albacete_convertio.csv\n",
      "SUPERFICIAL_ALBACETE_convertio.txt , ins_superficial_albacete_convertio.csv , toma_superficial_albacete_convertio.csv\n"
     ]
    }
   ],
   "source": [
    "files = [basename(f1) for f1 in glob.glob(join(dir_data,pattern))]\n",
    "for f1 in files:\n",
    "    fname, fextension = splitext(f1)\n",
    "    fo_inscripcion = 'ins_' + fname + '.csv'\n",
    "    fo_toma = 'toma_' + fname + '.csv'\n",
    "    print(f1, ',', fo_inscripcion.lower(), ',', fo_toma.lower())\n",
    "    "
   ]
  },
  {
   "cell_type": "code",
   "execution_count": 2,
   "id": "fafefcd6-0ba9-4e76-af9a-26619cd61128",
   "metadata": {},
   "outputs": [
    {
     "data": {
      "text/plain": [
       "'1,2'"
      ]
     },
     "execution_count": 2,
     "metadata": {},
     "output_type": "execute_result"
    }
   ],
   "source": [
    "l = [str(item) for item in [1, 2]]\n",
    "','.join(l)"
   ]
  },
  {
   "cell_type": "code",
   "execution_count": 3,
   "id": "f281990e-c6dd-416d-a5fa-c687f950306e",
   "metadata": {},
   "outputs": [
    {
     "name": "stdout",
     "output_type": "stream",
     "text": [
      "['1', '2']\n"
     ]
    }
   ],
   "source": [
    "print(l)"
   ]
  }
 ],
 "metadata": {
  "kernelspec": {
   "display_name": "Python 3 (ipykernel)",
   "language": "python",
   "name": "python3"
  },
  "language_info": {
   "codemirror_mode": {
    "name": "ipython",
    "version": 3
   },
   "file_extension": ".py",
   "mimetype": "text/x-python",
   "name": "python",
   "nbconvert_exporter": "python",
   "pygments_lexer": "ipython3",
   "version": "3.8.12"
  }
 },
 "nbformat": 4,
 "nbformat_minor": 5
}
